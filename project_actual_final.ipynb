{
 "cells": [
  {
   "cell_type": "code",
   "execution_count": 5,
   "metadata": {},
   "outputs": [],
   "source": [
    "import pandas as pd\n",
    "df=pd.read_csv('df_log_reg.csv')\n",
    "df.drop(['Unnamed: 0'],axis=1,inplace=True)\n",
    "df2=pd.read_csv('input.csv')\n",
    "df2.drop(['Unnamed: 0'],axis=1,inplace=True)"
   ]
  },
  {
   "cell_type": "code",
   "execution_count": 7,
   "metadata": {},
   "outputs": [
    {
     "name": "stdout",
     "output_type": "stream",
     "text": [
      "Accuracy 0.6587301587301587\n",
      "Precision 0.6612903225806451\n",
      "Recall 0.6507936507936508\n",
      "[0]\n"
     ]
    },
    {
     "name": "stderr",
     "output_type": "stream",
     "text": [
      "/Applications/anaconda3/lib/python3.6/site-packages/sklearn/linear_model/logistic.py:433: FutureWarning: Default solver will be changed to 'lbfgs' in 0.22. Specify a solver to silence this warning.\n",
      "  FutureWarning)\n"
     ]
    }
   ],
   "source": [
    "X = df.drop(['Admit'],axis=1)\n",
    "y = df.Admit\n",
    "from sklearn.model_selection import train_test_split\n",
    "X_train, X_test, y_train, y_test = train_test_split(X, y, test_size=0.2, random_state=42)\n",
    "from sklearn.linear_model import LogisticRegression\n",
    "logmodel = LogisticRegression(random_state=42)\n",
    "logmodel.fit(X_train,y_train)\n",
    "y_pred_test=logmodel.predict(X_test)\n",
    "from sklearn.metrics import precision_score, recall_score, accuracy_score\n",
    "accuracy_test = accuracy_score(y_test, y_pred_test)\n",
    "print(\"Accuracy\", accuracy_test)\n",
    "precision_test = precision_score(y_test, y_pred_test)\n",
    "print(\"Precision\",precision_test)\n",
    "recall_test = recall_score(y_test,y_pred_test)\n",
    "print(\"Recall\",recall_test)\n",
    "print(logmodel.predict(df2))"
   ]
  },
  {
   "cell_type": "code",
   "execution_count": 13,
   "metadata": {},
   "outputs": [
    {
     "data": {
      "text/plain": [
       "(1, 47)"
      ]
     },
     "execution_count": 13,
     "metadata": {},
     "output_type": "execute_result"
    }
   ],
   "source": [
    "df2.shape"
   ]
  },
  {
   "cell_type": "code",
   "execution_count": 14,
   "metadata": {},
   "outputs": [
    {
     "data": {
      "text/plain": [
       "Index(['GRE_SCORE', 'Test_score', 'Undergrad_score', 'Grad_Year', 'Work_Month',\n",
       "       'Arizona State University', 'Boston University',\n",
       "       'Carnegie Mellon University', 'Drexel University',\n",
       "       'Illinois Institute of Technology', 'Indiana University Bloomington',\n",
       "       'Iowa State University', 'New York University',\n",
       "       'Northeastern University', 'Northwestern University',\n",
       "       'Pennsylvania State University', 'Rensselaer Polytechnic Institute',\n",
       "       'Rochester Institute of Technology', 'Rutgers University, Newark',\n",
       "       'Rutgers University-New Brunswick', 'Santa Clara University',\n",
       "       'Stevens Institute of Technology', 'Syracuse University',\n",
       "       'Texas A&M; University, College Station', 'University at Buffalo SUNY',\n",
       "       'University of Arizona', 'University of California, Irvine',\n",
       "       'University of Cincinnati', 'University of Delaware',\n",
       "       'University of Florida', 'University of Illinois at Chicago',\n",
       "       'University of Maryland, College Park',\n",
       "       'University of Minnesota, Twin Cities',\n",
       "       'University of North Carolina at Charlotte',\n",
       "       'University of Texas at Arlington', 'University of Texas at Austin',\n",
       "       'University of Texas at Dallas', 'University of Utah',\n",
       "       'University of Washington', 'Worcester Polytechnic Institute',\n",
       "       'ICS with concentration in Informatics', 'Information Management',\n",
       "       'Information Management and Systems', 'Information Science',\n",
       "       'Information Systems', 'Information Technology and Management',\n",
       "       'Management Information System'],\n",
       "      dtype='object')"
      ]
     },
     "execution_count": 14,
     "metadata": {},
     "output_type": "execute_result"
    }
   ],
   "source": [
    "df2.columns"
   ]
  },
  {
   "cell_type": "code",
   "execution_count": 16,
   "metadata": {},
   "outputs": [
    {
     "data": {
      "text/plain": [
       "Index(['GRE_SCORE', 'Test_score', 'Undergrad_score', 'Grad_Year', 'Work_Month',\n",
       "       'Arizona State University', 'Boston University',\n",
       "       'Carnegie Mellon University', 'Drexel University',\n",
       "       'Illinois Institute of Technology', 'Indiana University Bloomington',\n",
       "       'Iowa State University', 'New York University',\n",
       "       'Northeastern University', 'Northwestern University',\n",
       "       'Pennsylvania State University', 'Rensselaer Polytechnic Institute',\n",
       "       'Rochester Institute of Technology', 'Rutgers University, Newark',\n",
       "       'Rutgers University-New Brunswick', 'Santa Clara University',\n",
       "       'Stevens Institute of Technology', 'Syracuse University',\n",
       "       'Texas A&M; University, College Station', 'University at Buffalo SUNY',\n",
       "       'University of Arizona', 'University of California, Irvine',\n",
       "       'University of Cincinnati', 'University of Delaware',\n",
       "       'University of Florida', 'University of Illinois at Chicago',\n",
       "       'University of Maryland, College Park',\n",
       "       'University of Minnesota, Twin Cities',\n",
       "       'University of North Carolina at Charlotte',\n",
       "       'University of Texas at Arlington', 'University of Texas at Austin',\n",
       "       'University of Texas at Dallas', 'University of Utah',\n",
       "       'University of Washington', 'Worcester Polytechnic Institute',\n",
       "       'ICS with concentration in Informatics', 'Information Management',\n",
       "       'Information Management and Systems', 'Information Science',\n",
       "       'Information Systems', 'Information Technology and Management',\n",
       "       'Management Information System', 'Admit'],\n",
       "      dtype='object')"
      ]
     },
     "execution_count": 16,
     "metadata": {},
     "output_type": "execute_result"
    }
   ],
   "source": [
    "df.columns"
   ]
  },
  {
   "cell_type": "code",
   "execution_count": 11,
   "metadata": {},
   "outputs": [
    {
     "data": {
      "text/html": [
       "<div>\n",
       "<style scoped>\n",
       "    .dataframe tbody tr th:only-of-type {\n",
       "        vertical-align: middle;\n",
       "    }\n",
       "\n",
       "    .dataframe tbody tr th {\n",
       "        vertical-align: top;\n",
       "    }\n",
       "\n",
       "    .dataframe thead th {\n",
       "        text-align: right;\n",
       "    }\n",
       "</style>\n",
       "<table border=\"1\" class=\"dataframe\">\n",
       "  <thead>\n",
       "    <tr style=\"text-align: right;\">\n",
       "      <th></th>\n",
       "      <th>GRE_SCORE</th>\n",
       "      <th>Test_score</th>\n",
       "      <th>Undergrad_score</th>\n",
       "      <th>Grad_Year</th>\n",
       "      <th>Work_Month</th>\n",
       "      <th>Arizona State University</th>\n",
       "      <th>Boston University</th>\n",
       "      <th>Carnegie Mellon University</th>\n",
       "      <th>Drexel University</th>\n",
       "      <th>Illinois Institute of Technology</th>\n",
       "      <th>...</th>\n",
       "      <th>University of Utah</th>\n",
       "      <th>University of Washington</th>\n",
       "      <th>Worcester Polytechnic Institute</th>\n",
       "      <th>ICS with concentration in Informatics</th>\n",
       "      <th>Information Management</th>\n",
       "      <th>Information Management and Systems</th>\n",
       "      <th>Information Science</th>\n",
       "      <th>Information Systems</th>\n",
       "      <th>Information Technology and Management</th>\n",
       "      <th>Management Information System</th>\n",
       "    </tr>\n",
       "  </thead>\n",
       "  <tbody>\n",
       "    <tr>\n",
       "      <th>0</th>\n",
       "      <td>1</td>\n",
       "      <td>0</td>\n",
       "      <td>0</td>\n",
       "      <td>0</td>\n",
       "      <td>0</td>\n",
       "      <td>0</td>\n",
       "      <td>0</td>\n",
       "      <td>0</td>\n",
       "      <td>0</td>\n",
       "      <td>0</td>\n",
       "      <td>...</td>\n",
       "      <td>0</td>\n",
       "      <td>0</td>\n",
       "      <td>0</td>\n",
       "      <td>0</td>\n",
       "      <td>0</td>\n",
       "      <td>0</td>\n",
       "      <td>0</td>\n",
       "      <td>0</td>\n",
       "      <td>0</td>\n",
       "      <td>0</td>\n",
       "    </tr>\n",
       "  </tbody>\n",
       "</table>\n",
       "<p>1 rows × 47 columns</p>\n",
       "</div>"
      ],
      "text/plain": [
       "   GRE_SCORE  Test_score  Undergrad_score  Grad_Year  Work_Month  \\\n",
       "0          1           0                0          0           0   \n",
       "\n",
       "   Arizona State University  Boston University  Carnegie Mellon University  \\\n",
       "0                         0                  0                           0   \n",
       "\n",
       "   Drexel University  Illinois Institute of Technology  \\\n",
       "0                  0                                 0   \n",
       "\n",
       "               ...                University of Utah  \\\n",
       "0              ...                                 0   \n",
       "\n",
       "   University of Washington  Worcester Polytechnic Institute  \\\n",
       "0                         0                                0   \n",
       "\n",
       "   ICS with concentration in Informatics  Information Management  \\\n",
       "0                                      0                       0   \n",
       "\n",
       "   Information Management and Systems  Information Science  \\\n",
       "0                                   0                    0   \n",
       "\n",
       "   Information Systems  Information Technology and Management  \\\n",
       "0                    0                                      0   \n",
       "\n",
       "   Management Information System  \n",
       "0                              0  \n",
       "\n",
       "[1 rows x 47 columns]"
      ]
     },
     "execution_count": 11,
     "metadata": {},
     "output_type": "execute_result"
    }
   ],
   "source": [
    "df2['GRE_SCORE']=1\n",
    "df2"
   ]
  },
  {
   "cell_type": "code",
   "execution_count": 12,
   "metadata": {},
   "outputs": [
    {
     "data": {
      "text/html": [
       "<div>\n",
       "<style scoped>\n",
       "    .dataframe tbody tr th:only-of-type {\n",
       "        vertical-align: middle;\n",
       "    }\n",
       "\n",
       "    .dataframe tbody tr th {\n",
       "        vertical-align: top;\n",
       "    }\n",
       "\n",
       "    .dataframe thead th {\n",
       "        text-align: right;\n",
       "    }\n",
       "</style>\n",
       "<table border=\"1\" class=\"dataframe\">\n",
       "  <thead>\n",
       "    <tr style=\"text-align: right;\">\n",
       "      <th></th>\n",
       "      <th>GRE_SCORE</th>\n",
       "      <th>Test_score</th>\n",
       "      <th>Undergrad_score</th>\n",
       "      <th>Grad_Year</th>\n",
       "      <th>Work_Month</th>\n",
       "      <th>Arizona State University</th>\n",
       "      <th>Boston University</th>\n",
       "      <th>Carnegie Mellon University</th>\n",
       "      <th>Drexel University</th>\n",
       "      <th>Illinois Institute of Technology</th>\n",
       "      <th>...</th>\n",
       "      <th>University of Utah</th>\n",
       "      <th>University of Washington</th>\n",
       "      <th>Worcester Polytechnic Institute</th>\n",
       "      <th>ICS with concentration in Informatics</th>\n",
       "      <th>Information Management</th>\n",
       "      <th>Information Management and Systems</th>\n",
       "      <th>Information Science</th>\n",
       "      <th>Information Systems</th>\n",
       "      <th>Information Technology and Management</th>\n",
       "      <th>Management Information System</th>\n",
       "    </tr>\n",
       "  </thead>\n",
       "  <tbody>\n",
       "    <tr>\n",
       "      <th>0</th>\n",
       "      <td>jk</td>\n",
       "      <td>0</td>\n",
       "      <td>0</td>\n",
       "      <td>0</td>\n",
       "      <td>0</td>\n",
       "      <td>0</td>\n",
       "      <td>0</td>\n",
       "      <td>0</td>\n",
       "      <td>0</td>\n",
       "      <td>0</td>\n",
       "      <td>...</td>\n",
       "      <td>0</td>\n",
       "      <td>0</td>\n",
       "      <td>0</td>\n",
       "      <td>0</td>\n",
       "      <td>0</td>\n",
       "      <td>0</td>\n",
       "      <td>0</td>\n",
       "      <td>0</td>\n",
       "      <td>0</td>\n",
       "      <td>0</td>\n",
       "    </tr>\n",
       "  </tbody>\n",
       "</table>\n",
       "<p>1 rows × 47 columns</p>\n",
       "</div>"
      ],
      "text/plain": [
       "  GRE_SCORE  Test_score  Undergrad_score  Grad_Year  Work_Month  \\\n",
       "0        jk           0                0          0           0   \n",
       "\n",
       "   Arizona State University  Boston University  Carnegie Mellon University  \\\n",
       "0                         0                  0                           0   \n",
       "\n",
       "   Drexel University  Illinois Institute of Technology  \\\n",
       "0                  0                                 0   \n",
       "\n",
       "               ...                University of Utah  \\\n",
       "0              ...                                 0   \n",
       "\n",
       "   University of Washington  Worcester Polytechnic Institute  \\\n",
       "0                         0                                0   \n",
       "\n",
       "   ICS with concentration in Informatics  Information Management  \\\n",
       "0                                      0                       0   \n",
       "\n",
       "   Information Management and Systems  Information Science  \\\n",
       "0                                   0                    0   \n",
       "\n",
       "   Information Systems  Information Technology and Management  \\\n",
       "0                    0                                      0   \n",
       "\n",
       "   Management Information System  \n",
       "0                              0  \n",
       "\n",
       "[1 rows x 47 columns]"
      ]
     },
     "execution_count": 12,
     "metadata": {},
     "output_type": "execute_result"
    }
   ],
   "source": [
    "df"
   ]
  },
  {
   "cell_type": "code",
   "execution_count": null,
   "metadata": {},
   "outputs": [],
   "source": []
  }
 ],
 "metadata": {
  "kernelspec": {
   "display_name": "Python 3",
   "language": "python",
   "name": "python3"
  },
  "language_info": {
   "codemirror_mode": {
    "name": "ipython",
    "version": 3
   },
   "file_extension": ".py",
   "mimetype": "text/x-python",
   "name": "python",
   "nbconvert_exporter": "python",
   "pygments_lexer": "ipython3",
   "version": "3.6.8"
  }
 },
 "nbformat": 4,
 "nbformat_minor": 2
}
